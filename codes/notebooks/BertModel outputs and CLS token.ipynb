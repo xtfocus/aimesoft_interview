{
 "cells": [
  {
   "cell_type": "markdown",
   "id": "d9928913",
   "metadata": {},
   "source": [
    "Seeing is believing. In this notebook, we print out the output of BERT."
   ]
  },
  {
   "cell_type": "code",
   "execution_count": 1,
   "id": "e9f3b12c",
   "metadata": {},
   "outputs": [
    {
     "name": "stderr",
     "output_type": "stream",
     "text": [
      "2024-02-25 22:30:07.679882: I tensorflow/core/platform/cpu_feature_guard.cc:193] This TensorFlow binary is optimized with oneAPI Deep Neural Network Library (oneDNN) to use the following CPU instructions in performance-critical operations:  AVX2 FMA\n",
      "To enable them in other operations, rebuild TensorFlow with the appropriate compiler flags.\n",
      "2024-02-25 22:30:07.830936: E tensorflow/stream_executor/cuda/cuda_blas.cc:2981] Unable to register cuBLAS factory: Attempting to register factory for plugin cuBLAS when one has already been registered\n",
      "2024-02-25 22:30:08.590850: W tensorflow/stream_executor/platform/default/dso_loader.cc:64] Could not load dynamic library 'libnvinfer.so.7'; dlerror: libnvinfer.so.7: cannot open shared object file: No such file or directory; LD_LIBRARY_PATH: :/opt/cuda/lib64:/opt/cuda/lib:/opt/cuda/lib64:/opt/cuda/lib\n",
      "2024-02-25 22:30:08.590959: W tensorflow/stream_executor/platform/default/dso_loader.cc:64] Could not load dynamic library 'libnvinfer_plugin.so.7'; dlerror: libnvinfer_plugin.so.7: cannot open shared object file: No such file or directory; LD_LIBRARY_PATH: :/opt/cuda/lib64:/opt/cuda/lib:/opt/cuda/lib64:/opt/cuda/lib\n",
      "2024-02-25 22:30:08.590969: W tensorflow/compiler/tf2tensorrt/utils/py_utils.cc:38] TF-TRT Warning: Cannot dlopen some TensorRT libraries. If you would like to use Nvidia GPU with TensorRT, please make sure the missing libraries mentioned above are installed properly.\n"
     ]
    }
   ],
   "source": [
    "import torch\n",
    "from transformers import BertTokenizer, BertModel\n",
    "\n",
    "MODEL_NAME = \"bert-base-cased\"\n",
    "SENTENCE = \"Sarah went to a restaurant. She was not satisfied\"\n",
    "\n",
    "tokenizer = BertTokenizer.from_pretrained(MODEL_NAME)\n",
    "model = BertModel.from_pretrained(MODEL_NAME)\n",
    "\n",
    "inputs = tokenizer(\"Hello, my dog is cute\", return_tensors='pt')\n",
    "\n",
    "outputs = model(**inputs, output_hidden_states=True)"
   ]
  },
  {
   "cell_type": "markdown",
   "id": "d609ceb0",
   "metadata": {},
   "source": [
    "`outputs` is of type `BaseModelOutputWithPoolingAndCrossAttentions`, in simple term a (customized) tuple containing 3 items"
   ]
  },
  {
   "cell_type": "code",
   "execution_count": 2,
   "id": "89de1dc5",
   "metadata": {},
   "outputs": [
    {
     "name": "stdout",
     "output_type": "stream",
     "text": [
      "<class 'transformers.modeling_outputs.BaseModelOutputWithPoolingAndCrossAttentions'>\n"
     ]
    },
    {
     "data": {
      "text/plain": [
       "3"
      ]
     },
     "execution_count": 2,
     "metadata": {},
     "output_type": "execute_result"
    }
   ],
   "source": [
    "print(type(outputs))\n",
    "\n",
    "len(outputs)"
   ]
  },
  {
   "cell_type": "markdown",
   "id": "3288f2c2",
   "metadata": {},
   "source": [
    ">**last_hidden_state** (torch.FloatTensor of shape (batch_size, sequence_length, hidden_size)) — Sequence of hidden-states at the output of the last layer of the model.\n",
    ">\n",
    ">**pooler_output** (torch.FloatTensor of shape (batch_size, hidden_size)) — Last layer hidden-state of the first token of the sequence (classification token) after further processing through the layers used for the auxiliary pretraining task. E.g. for BERT-family of models, this returns the classification token after processing through a linear layer and a tanh activation function. The linear layer weights are trained from the next sentence prediction (classification) objective during pretraining.\n",
    ">\n",
    ">**hidden_states** (tuple(torch.FloatTensor), optional, returned when output_hidden_states=True is passed or when config.output_hidden_states=True) — Tuple of torch.FloatTensor (one for the output of the embeddings, if the model has an embedding layer, + one for the output of each layer) of shape (batch_size, sequence_length, hidden_size)."
   ]
  },
  {
   "cell_type": "code",
   "execution_count": 3,
   "id": "6be2e9c5",
   "metadata": {},
   "outputs": [],
   "source": [
    "last_hidden_state = outputs.last_hidden_state\n",
    "pooler_output = outputs.pooler_output\n",
    "hidden_states = outputs.hidden_states"
   ]
  },
  {
   "cell_type": "markdown",
   "id": "94cf993a",
   "metadata": {},
   "source": [
    "# last_hidden_state"
   ]
  },
  {
   "cell_type": "code",
   "execution_count": 4,
   "id": "3a7e5396",
   "metadata": {},
   "outputs": [
    {
     "name": "stdout",
     "output_type": "stream",
     "text": [
      "last_hidden_states has shape torch.Size([1, 8, 768])\n",
      "[[[ 0.51323897  0.5097055   0.19912957 ... -0.38999233  0.40526906\n",
      "   -0.23153386]\n",
      "  [ 0.5394626  -0.3658087   0.6667345  ... -0.39200187  0.25045085\n",
      "    0.02019705]\n",
      "  [ 0.7766632   0.6822611   0.7109605  ... -0.04200423 -0.37177894\n",
      "    0.37482336]\n",
      "  ...\n",
      "  [ 0.35550103  0.44857284  0.61754423 ... -0.03878015 -0.26307565\n",
      "    0.35140684]\n",
      "  [ 0.7927245  -0.12816776  0.27373865 ... -0.521956    0.48364452\n",
      "    0.09373149]\n",
      "  [ 1.2903227   1.035556    0.50537765 ... -0.43437806  1.1972625\n",
      "   -0.4235841 ]]]\n"
     ]
    }
   ],
   "source": [
    "print(f\"last_hidden_states has shape {last_hidden_state.shape}\")\n",
    "print(last_hidden_state.detach().numpy())"
   ]
  },
  {
   "cell_type": "markdown",
   "id": "f0fba0c7",
   "metadata": {},
   "source": [
    "# `hidden_states`\n",
    "By definition, \n",
    "```python\n",
    "hidden_states[-1] == last_hidden_state\n",
    "```"
   ]
  },
  {
   "cell_type": "code",
   "execution_count": 7,
   "id": "9bbf5291",
   "metadata": {},
   "outputs": [
    {
     "data": {
      "text/plain": [
       "13"
      ]
     },
     "execution_count": 7,
     "metadata": {},
     "output_type": "execute_result"
    }
   ],
   "source": [
    "len(hidden_states)"
   ]
  },
  {
   "cell_type": "code",
   "execution_count": 8,
   "id": "ef7b18f1",
   "metadata": {},
   "outputs": [
    {
     "data": {
      "text/plain": [
       "torch.Size([1, 8, 768])"
      ]
     },
     "execution_count": 8,
     "metadata": {},
     "output_type": "execute_result"
    }
   ],
   "source": [
    "hidden_states[0].shape"
   ]
  },
  {
   "cell_type": "markdown",
   "id": "a4904324",
   "metadata": {},
   "source": [
    "# `pooler_output`\n",
    "\n",
    "is **NOT** the same as `last_hidden_state[:,0,:]`\n",
    "\n",
    ">Last layer hidden-state of the first token of the sequence (classification token) after **further processing through the layers used for the auxiliary pretraining task**. E.g. for BERT-family of models, this returns the classification token after processing through a linear layer and a tanh activation function. The linear layer weights are trained from the **next sentence prediction**\n",
    "\n",
    "In other words, `last_hidden_state[:,0,:]` is trained for next sentence prediction, resulting in `pooler_output`"
   ]
  },
  {
   "cell_type": "code",
   "execution_count": 99,
   "id": "04aeb672",
   "metadata": {},
   "outputs": [
    {
     "data": {
      "text/plain": [
       "<TanhBackward0 at 0x7df665f02940>"
      ]
     },
     "execution_count": 99,
     "metadata": {},
     "output_type": "execute_result"
    }
   ],
   "source": [
    "pooler_output.grad_fn"
   ]
  },
  {
   "cell_type": "code",
   "execution_count": 101,
   "id": "a92edf48",
   "metadata": {},
   "outputs": [
    {
     "data": {
      "text/plain": [
       "<NativeLayerNormBackward0 at 0x7df66625feb0>"
      ]
     },
     "execution_count": 101,
     "metadata": {},
     "output_type": "execute_result"
    }
   ],
   "source": [
    "last_hidden_state.grad_fn"
   ]
  }
 ],
 "metadata": {
  "kernelspec": {
   "display_name": "nlp",
   "language": "python",
   "name": "nlp"
  },
  "language_info": {
   "codemirror_mode": {
    "name": "ipython",
    "version": 3
   },
   "file_extension": ".py",
   "mimetype": "text/x-python",
   "name": "python",
   "nbconvert_exporter": "python",
   "pygments_lexer": "ipython3",
   "version": "3.9.16"
  },
  "toc": {
   "base_numbering": 1,
   "nav_menu": {},
   "number_sections": true,
   "sideBar": true,
   "skip_h1_title": false,
   "title_cell": "Table of Contents",
   "title_sidebar": "Contents",
   "toc_cell": false,
   "toc_position": {},
   "toc_section_display": true,
   "toc_window_display": false
  }
 },
 "nbformat": 4,
 "nbformat_minor": 5
}
