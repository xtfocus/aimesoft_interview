{
 "cells": [
  {
   "cell_type": "code",
   "execution_count": 1,
   "id": "274c7f54",
   "metadata": {},
   "outputs": [],
   "source": [
    "import warnings\n",
    "warnings.filterwarnings('ignore')"
   ]
  },
  {
   "cell_type": "code",
   "execution_count": 2,
   "id": "9f2f925f",
   "metadata": {},
   "outputs": [
    {
     "name": "stderr",
     "output_type": "stream",
     "text": [
      "2024-02-26 12:22:36.546139: I tensorflow/core/platform/cpu_feature_guard.cc:193] This TensorFlow binary is optimized with oneAPI Deep Neural Network Library (oneDNN) to use the following CPU instructions in performance-critical operations:  AVX2 FMA\n",
      "To enable them in other operations, rebuild TensorFlow with the appropriate compiler flags.\n",
      "2024-02-26 12:22:36.694456: E tensorflow/stream_executor/cuda/cuda_blas.cc:2981] Unable to register cuBLAS factory: Attempting to register factory for plugin cuBLAS when one has already been registered\n",
      "2024-02-26 12:22:37.516622: W tensorflow/stream_executor/platform/default/dso_loader.cc:64] Could not load dynamic library 'libnvinfer.so.7'; dlerror: libnvinfer.so.7: cannot open shared object file: No such file or directory; LD_LIBRARY_PATH: :/opt/cuda/lib64:/opt/cuda/lib:/opt/cuda/lib64:/opt/cuda/lib\n",
      "2024-02-26 12:22:37.516730: W tensorflow/stream_executor/platform/default/dso_loader.cc:64] Could not load dynamic library 'libnvinfer_plugin.so.7'; dlerror: libnvinfer_plugin.so.7: cannot open shared object file: No such file or directory; LD_LIBRARY_PATH: :/opt/cuda/lib64:/opt/cuda/lib:/opt/cuda/lib64:/opt/cuda/lib\n",
      "2024-02-26 12:22:37.516739: W tensorflow/compiler/tf2tensorrt/utils/py_utils.cc:38] TF-TRT Warning: Cannot dlopen some TensorRT libraries. If you would like to use Nvidia GPU with TensorRT, please make sure the missing libraries mentioned above are installed properly.\n"
     ]
    },
    {
     "data": {
      "text/plain": [
       "<Experiment: artifact_location='/home/tung/units/python_dev/tung_aimesoft_solution/repo/codes/experiment_tracking/mlruns/1', creation_time=1708924255947, experiment_id='1', last_update_time=1708924255947, lifecycle_stage='active', name='bert-restaurant-sentiment-classification', tags={}>"
      ]
     },
     "execution_count": 2,
     "metadata": {},
     "output_type": "execute_result"
    }
   ],
   "source": [
    "from transformers import AdamW, get_linear_schedule_with_warmup\n",
    "from model import SentimentClassifierUntrainedCLSMultiLastLayersMultiLinear, SentimentClassifierUntrainedCLS\n",
    "from data_preprocessing import create_data_loader,\\\n",
    "                                tokenizer,\\\n",
    "                                df_train,\\\n",
    "                                df_dev,\\\n",
    "                                df_test,\\\n",
    "                                dev_data_loader,\\\n",
    "                                test_data_loader,\\\n",
    "                                dev_size,\\\n",
    "                                MAX_LEN,\\\n",
    "                                BATCH_SIZE,\\\n",
    "                                class_names\n",
    "\n",
    "import pandas as pd\n",
    "from train import DEVICE, optimizer_scheduler, train_model, train_epoch, eval_model, loss_fn\n",
    "import mlflow\n",
    "\n",
    "mlflow.set_tracking_uri(\"sqlite:///mlflow.db\")\n",
    "mlflow.set_experiment(\"bert-restaurant-sentiment-classification\")"
   ]
  },
  {
   "cell_type": "code",
   "execution_count": 3,
   "id": "0311d0c9",
   "metadata": {},
   "outputs": [],
   "source": [
    "df_train_total = pd.concat([df_train, df_dev])\n",
    "total_train_data_loader = create_data_loader(df_train_total, tokenizer, MAX_LEN, BATCH_SIZE)\n",
    "train_size = df_train_total.shape[0]"
   ]
  },
  {
   "cell_type": "code",
   "execution_count": 7,
   "id": "ca197871",
   "metadata": {},
   "outputs": [],
   "source": [
    "def optimizer_scheduler(model):\n",
    "    \n",
    "    # Optimizer Adam \n",
    "    optimizer = AdamW(model.parameters(), lr=1e-5, correct_bias=False)\n",
    "    \n",
    "    total_steps = len(total_train_data_loader) * EPOCHS\n",
    "    \n",
    "    scheduler = get_linear_schedule_with_warmup(\n",
    "        optimizer,\n",
    "        num_warmup_steps=10,\n",
    "        num_training_steps=total_steps\n",
    "    )\n",
    "    \n",
    "    return optimizer, scheduler\n"
   ]
  },
  {
   "cell_type": "code",
   "execution_count": 8,
   "id": "05bccebf",
   "metadata": {},
   "outputs": [
    {
     "name": "stdout",
     "output_type": "stream",
     "text": [
      "Epoch 1/3\n",
      "----------\n",
      "Train loss 0.4458996044022256 accuracy 0.7511111111111111\n",
      "Test   loss 0.0477471724152565 accuracy 0.995\n",
      "\n",
      "Epoch 2/3\n",
      "----------\n",
      "Train loss 0.12443363559352041 accuracy 0.9544444444444444\n",
      "Test   loss 0.011975505356011646 accuracy 0.995\n",
      "\n",
      "Epoch 3/3\n",
      "----------\n",
      "Train loss 0.024628276141874236 accuracy 0.9933333333333333\n",
      "Test   loss 0.004843222709106547 accuracy 1.0\n",
      "\n"
     ]
    }
   ],
   "source": [
    "from collections import defaultdict\n",
    "\n",
    "EPOCHS = 3\n",
    "\n",
    "model = SentimentClassifierUntrainedCLS(len(class_names))\n",
    "model = model.to(DEVICE)\n",
    "optimizer, scheduler = optimizer_scheduler(model)\n",
    "\n",
    "with mlflow.start_run() as run:\n",
    "    mlflow.set_tag(\"Model class\", \"SentimentClassifierUntrainedCLS\")\n",
    "\n",
    "    history = defaultdict(list)\n",
    "    best_accuracy = 0\n",
    "    best_epoch = 0\n",
    "    \n",
    "    for epoch in range(EPOCHS):\n",
    "        \n",
    "        # Show details \n",
    "        print(f\"Epoch {epoch + 1}/{EPOCHS}\")\n",
    "        print(\"-\" * 10)\n",
    "        \n",
    "        train_acc, train_loss = train_epoch(\n",
    "            model,\n",
    "            total_train_data_loader,\n",
    "            loss_fn,\n",
    "            optimizer,\n",
    "            DEVICE,\n",
    "            scheduler,\n",
    "            train_size,\n",
    "            epoch\n",
    "        )\n",
    "        \n",
    "        print(f\"Train loss {train_loss} accuracy {train_acc}\")\n",
    "        \n",
    "        # Get model performance (accuracy and loss)\n",
    "        val_acc, val_loss = eval_model(\n",
    "            model,\n",
    "            dev_data_loader,\n",
    "            loss_fn,\n",
    "            DEVICE,\n",
    "            dev_size\n",
    "        )\n",
    "        \n",
    "        print(f\"Test   loss {val_loss} accuracy {val_acc}\")\n",
    "        print()\n",
    "        \n",
    "        \n",
    "        mlflow.log_metric(\"Train Loss\", train_loss, step=epoch)\n",
    "        mlflow.log_metric(\"Test  Loss\", val_loss, step=epoch)\n",
    "        mlflow.log_metric(\"Train Accuracy\", train_acc, step=epoch)\n",
    "        mlflow.log_metric(\"Test Accuracy\", val_acc, step=epoch)\n",
    "\n",
    "        \n",
    "        history['train_acc'].append(train_acc)\n",
    "        history['train_loss'].append(train_loss)\n",
    "        history['val_acc'].append(val_acc)\n",
    "        history['val_loss'].append(val_loss)\n",
    "        \n",
    "    mlflow.pytorch.log_model(\n",
    "        model, artifact_path=\"final_model\"\n",
    "    )\n",
    "                \n"
   ]
  },
  {
   "cell_type": "code",
   "execution_count": 9,
   "id": "0617c489",
   "metadata": {},
   "outputs": [
    {
     "name": "stdout",
     "output_type": "stream",
     "text": [
      "run id = 9e19439b289c4b9db8fec6137f47eb2c\n"
     ]
    }
   ],
   "source": [
    "print(f\"run id = {run.info.run_id}\")"
   ]
  },
  {
   "cell_type": "markdown",
   "id": "2868f5d0",
   "metadata": {},
   "source": [
    "# Inference on test set"
   ]
  },
  {
   "cell_type": "markdown",
   "id": "8ec48648",
   "metadata": {},
   "source": [
    "## Load model"
   ]
  },
  {
   "cell_type": "code",
   "execution_count": 10,
   "id": "1d590916",
   "metadata": {},
   "outputs": [],
   "source": [
    "import mlflow\n",
    "\n",
    "run_id = \"9e19439b289c4b9db8fec6137f47eb2c\"\n",
    "model_path = \"final_model\"\n",
    "\n",
    "mlflow.set_tracking_uri(\"sqlite:///mlflow.db\")\n",
    "mlflow.set_experiment(\"bert-restaurant-sentiment-classification\")\n",
    "\n",
    "model_uri = f\"runs:/{run_id}/{model_path}\"\n",
    "loaded_model = mlflow.pytorch.load_model(model_uri)\n",
    "\n"
   ]
  },
  {
   "cell_type": "code",
   "execution_count": 17,
   "id": "ab872713",
   "metadata": {},
   "outputs": [
    {
     "name": "stdout",
     "output_type": "stream",
     "text": [
      "0.96 0.09963598613103386\n"
     ]
    }
   ],
   "source": [
    "from train import eval_model, loss_fn, DEVICE\n",
    "from data_preprocessing import test_data_loader, df_test\n",
    "\n",
    "\n",
    "acc, loss = eval_model(loaded_model, test_data_loader, loss_fn, DEVICE, len(df_test))\n",
    "print(acc.item(), loss)"
   ]
  },
  {
   "cell_type": "markdown",
   "id": "ca81027d",
   "metadata": {},
   "source": [
    "# Confusion matrix"
   ]
  },
  {
   "cell_type": "code",
   "execution_count": 12,
   "id": "d36065c0",
   "metadata": {},
   "outputs": [],
   "source": [
    "from inference import get_predictions\n",
    "\n",
    "def roc_curve_plot(model, data_loader, DEVICE):\n",
    "\n",
    "    y_texts, y_pred, y_pred_probs, y_test = get_predictions(\n",
    "        loaded_model,\n",
    "        data_loader,\n",
    "        DEVICE\n",
    "    )\n",
    "    "
   ]
  },
  {
   "cell_type": "code",
   "execution_count": 13,
   "id": "0a8d1e1c",
   "metadata": {},
   "outputs": [
    {
     "name": "stdout",
     "output_type": "stream",
     "text": [
      "Accuracy: 0.9600\n",
      "              precision    recall  f1-score   support\n",
      "\n",
      "           0       0.98      0.94      0.96        50\n",
      "           1       0.94      0.98      0.96        50\n",
      "\n",
      "    accuracy                           0.96       100\n",
      "   macro avg       0.96      0.96      0.96       100\n",
      "weighted avg       0.96      0.96      0.96       100\n",
      "\n",
      "[[47  3]\n",
      " [ 1 49]]\n"
     ]
    }
   ],
   "source": [
    "from sklearn.metrics import confusion_matrix, classification_report\n",
    "\n",
    "y_texts, y_pred, y_pred_probs, y_test = get_predictions(\n",
    "        loaded_model,\n",
    "        test_data_loader,\n",
    "        DEVICE\n",
    "    )\n",
    "    \n",
    "\n",
    "print(classification_report(y_test, y_pred))\n",
    "print(confusion_matrix(y_test, y_pred))\n"
   ]
  },
  {
   "cell_type": "code",
   "execution_count": 14,
   "id": "9cfd3931",
   "metadata": {},
   "outputs": [
    {
     "data": {
      "image/png": "[encoded data removed]",
      "text/plain": [
       "<Figure size 1000x600 with 1 Axes>"
      ]
     },
     "metadata": {},
     "output_type": "display_data"
    }
   ],
   "source": [
    "from sklearn.metrics import roc_curve, auc\n",
    "import matplotlib.pyplot as plt\n",
    "\n",
    "fpr, tpr, _ = roc_curve(y_test, y_pred_probs[:,1])\n",
    "roc_auc = auc(fpr, tpr)\n",
    "\n",
    "\n",
    "# Plot ROC curve\n",
    "plt.figure(figsize=(10, 6))\n",
    "plt.plot(fpr, tpr, color='darkorange', lw=2, label='ROC curve (area = {:.2f})'.format(roc_auc))\n",
    "plt.plot([0, 1], [0, 1], color='navy', lw=2, linestyle='--')\n",
    "plt.xlabel('False Positive Rate')\n",
    "plt.ylabel('True Positive Rate')\n",
    "plt.title('Receiver Operating Characteristic (ROC) Curve')\n",
    "plt.legend(loc='lower right')\n",
    "plt.show()\n"
   ]
  },
  {
   "cell_type": "code",
   "execution_count": 21,
   "id": "f81a17a8",
   "metadata": {},
   "outputs": [
    {
     "data": {
      "text/html": [
       "<div>\n",
       "<style scoped>\n",
       "    .dataframe tbody tr th:only-of-type {\n",
       "        vertical-align: middle;\n",
       "    }\n",
       "\n",
       "    .dataframe tbody tr th {\n",
       "        vertical-align: top;\n",
       "    }\n",
       "\n",
       "    .dataframe thead th {\n",
       "        text-align: right;\n",
       "    }\n",
       "</style>\n",
       "<table border=\"1\" class=\"dataframe\">\n",
       "  <thead>\n",
       "    <tr style=\"text-align: right;\">\n",
       "      <th></th>\n",
       "      <th>text</th>\n",
       "      <th>pred</th>\n",
       "      <th>label</th>\n",
       "      <th>prob</th>\n",
       "    </tr>\n",
       "  </thead>\n",
       "  <tbody>\n",
       "    <tr>\n",
       "      <th>31</th>\n",
       "      <td>The shower area is outside so you can only rinse, not take a full shower, unless you don't mind being nude for everyone to see!</td>\n",
       "      <td>1</td>\n",
       "      <td>0</td>\n",
       "      <td>0.955171</td>\n",
       "    </tr>\n",
       "    <tr>\n",
       "      <th>35</th>\n",
       "      <td>Con: spotty service.</td>\n",
       "      <td>1</td>\n",
       "      <td>0</td>\n",
       "      <td>0.877485</td>\n",
       "    </tr>\n",
       "    <tr>\n",
       "      <th>39</th>\n",
       "      <td>After one bite, I was hooked.</td>\n",
       "      <td>0</td>\n",
       "      <td>1</td>\n",
       "      <td>0.014045</td>\n",
       "    </tr>\n",
       "    <tr>\n",
       "      <th>89</th>\n",
       "      <td>If the food isn't bad enough for you, then enjoy dealing with the world's worst/annoying drunk people.</td>\n",
       "      <td>1</td>\n",
       "      <td>0</td>\n",
       "      <td>0.932930</td>\n",
       "    </tr>\n",
       "  </tbody>\n",
       "</table>\n",
       "</div>"
      ],
      "text/plain": [
       "                                                                                                                               text  \\\n",
       "31  The shower area is outside so you can only rinse, not take a full shower, unless you don't mind being nude for everyone to see!   \n",
       "35                                                                                                             Con: spotty service.   \n",
       "39                                                                                                    After one bite, I was hooked.   \n",
       "89                           If the food isn't bad enough for you, then enjoy dealing with the world's worst/annoying drunk people.   \n",
       "\n",
       "    pred  label      prob  \n",
       "31     1      0  0.955171  \n",
       "35     1      0  0.877485  \n",
       "39     0      1  0.014045  \n",
       "89     1      0  0.932930  "
      ]
     },
     "execution_count": 21,
     "metadata": {},
     "output_type": "execute_result"
    }
   ],
   "source": [
    "# Show errors\n",
    "import numpy as np\n",
    "pd.set_option('display.max_colwidth', None)\n",
    "\n",
    "errors = np.where(y_test != y_pred)\n",
    "error_df = pd.DataFrame({\"text\": y_texts, \"pred\": y_pred, \"label\": y_test, \"prob\": y_pred_probs[:,1]})\n",
    "error_df.loc[errors]"
   ]
  },
  {
   "cell_type": "markdown",
   "id": "adce2684",
   "metadata": {},
   "source": [
    "It shows that the models can't get sacarsm (If the food **isn't bad** enough for you), or doesn't get the full context (**hooked** can be mistaked as an attack !?)"
   ]
  }
 ],
 "metadata": {
  "kernelspec": {
   "display_name": "nlp",
   "language": "python",
   "name": "nlp"
  },
  "language_info": {
   "codemirror_mode": {
    "name": "ipython",
    "version": 3
   },
   "file_extension": ".py",
   "mimetype": "text/x-python",
   "name": "python",
   "nbconvert_exporter": "python",
   "pygments_lexer": "ipython3",
   "version": "3.9.16"
  },
  "toc": {
   "base_numbering": 1,
   "nav_menu": {},
   "number_sections": true,
   "sideBar": true,
   "skip_h1_title": false,
   "title_cell": "Table of Contents",
   "title_sidebar": "Contents",
   "toc_cell": false,
   "toc_position": {},
   "toc_section_display": true,
   "toc_window_display": false
  }
 },
 "nbformat": 4,
 "nbformat_minor": 5
}
